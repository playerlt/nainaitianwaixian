{
 "cells": [
  {
   "cell_type": "code",
   "execution_count": 2,
   "metadata": {},
   "outputs": [],
   "source": [
    "import numpy as np\n",
    "import time"
   ]
  },
  {
   "cell_type": "markdown",
   "metadata": {},
   "source": [
    "### 创建两个百万维的数组"
   ]
  },
  {
   "cell_type": "code",
   "execution_count": 3,
   "metadata": {},
   "outputs": [],
   "source": [
    "a = np.random.rand(1000000)\n",
    "b = np.random.rand(1000000)"
   ]
  },
  {
   "cell_type": "markdown",
   "metadata": {},
   "source": [
    "### 分别用np.dot和for循环对两个数组进行点乘"
   ]
  },
  {
   "cell_type": "code",
   "execution_count": 5,
   "metadata": {},
   "outputs": [
    {
     "name": "stdout",
     "output_type": "stream",
     "text": [
      "249715.57341423497\n",
      "使用np.dot方法(向量化)用的时间:1.9905567169189453 ms.\n",
      "249715.57341423733\n",
      "使用for循环用的时间:1073.1749534606934 ms.\n"
     ]
    }
   ],
   "source": [
    "begin = time.time()\n",
    "c = np.dot(a,b)\n",
    "end = time.time()\n",
    "\n",
    "print(c)\n",
    "print(\"使用np.dot方法(向量化)用的时间:{} ms.\".format(1000*(end-begin)))\n",
    "\n",
    "c = 0\n",
    "begin = time.time()\n",
    "for i in range (1000000):\n",
    "    c += a[i]*b[i]\n",
    "end = time.time()\n",
    "\n",
    "print(c)\n",
    "print(\"使用for循环用的时间:{} ms.\".format(1000*(end-begin)))"
   ]
  },
  {
   "cell_type": "markdown",
   "metadata": {},
   "source": [
    "### 对向量的每个元素进行指数运算"
   ]
  },
  {
   "cell_type": "code",
   "execution_count": 9,
   "metadata": {},
   "outputs": [
    {
     "name": "stdout",
     "output_type": "stream",
     "text": [
      "使用np.exp方法(向量化)用的时间:6.981849670410156 ms.\n",
      "使用for循环用的时间:1491.574764251709 ms.\n",
      "True\n"
     ]
    }
   ],
   "source": [
    "import math\n",
    "a = np.random.random((1000000,1))\n",
    "\n",
    "begin = time.time()\n",
    "b = np.exp(a)\n",
    "end = time.time()\n",
    "\n",
    "print(\"使用np.exp方法(向量化)用的时间:{} ms.\".format(1000*(end-begin)))\n",
    "\n",
    "c = np.zeros((1000000,1))\n",
    "\n",
    "begin = time.time()\n",
    "for i in range(1000000):\n",
    "    c[i] = math.exp(a[i])\n",
    "end = time.time()\n",
    "print(\"使用for循环用的时间:{} ms.\".format(1000*(end-begin)))\n",
    "print(np.allclose(b,c))"
   ]
  },
  {
   "cell_type": "markdown",
   "metadata": {},
   "source": [
    ">对于numpy的矩阵v，还可以使用np.log(v),np.abs(v),np.maximum(), v**2, 1/v等操作"
   ]
  },
  {
   "cell_type": "markdown",
   "metadata": {},
   "source": [
    "### 可以自定义函数作用于vector的每个元素"
   ]
  },
  {
   "cell_type": "code",
   "execution_count": 12,
   "metadata": {},
   "outputs": [],
   "source": [
    "import numpy as np\n",
    "\n",
    "def mf(x,y):\n",
    "    return x ** 3 + 2 * x - 1 if x > y else x * 3 + 8\n",
    "\n",
    "f = np.vectorize(mf)  \n",
    "A = np.random.randint(-10,10,size=(6,6))\n",
    "result_array = f(A,2)  "
   ]
  },
  {
   "cell_type": "code",
   "execution_count": 13,
   "metadata": {},
   "outputs": [
    {
     "data": {
      "text/plain": [
       "array([[ -7,  -6,  -5,  -2,   0,  -5],\n",
       "       [  5,   5,   0,   7,  -2,  -9],\n",
       "       [ -6,   3,  -5,  -6,  -2,  -8],\n",
       "       [-10,  -5,   3,  -6,   7,   5],\n",
       "       [ -9,  -7,   5,   3,  -2,   2],\n",
       "       [ -2,  -2,   6,  -6,   2,   9]])"
      ]
     },
     "execution_count": 13,
     "metadata": {},
     "output_type": "execute_result"
    }
   ],
   "source": [
    "A"
   ]
  },
  {
   "cell_type": "code",
   "execution_count": 14,
   "metadata": {},
   "outputs": [
    {
     "data": {
      "text/plain": [
       "array([[-13, -10,  -7,   2,   8,  -7],\n",
       "       [134, 134,   8, 356,   2, -19],\n",
       "       [-10,  32,  -7, -10,   2, -16],\n",
       "       [-22,  -7,  32, -10, 356, 134],\n",
       "       [-19, -13, 134,  32,   2,  14],\n",
       "       [  2,   2, 227, -10,  14, 746]])"
      ]
     },
     "execution_count": 14,
     "metadata": {},
     "output_type": "execute_result"
    }
   ],
   "source": [
    "result_array"
   ]
  },
  {
   "cell_type": "markdown",
   "metadata": {},
   "source": [
    "<font color=red>原因:</font> numpy是建立在对向量数学运算进行了很多艰苦优化的低级库之上的，它和for循环的内部细节不同，优化很复杂，参考一个例子：[Fast inverse square root](https://en.wikipedia.org/wiki/Fast_inverse_square_root)，更多原因参考：[Is using NumPy faster than using for-loops to handle lists, and why?](https://www.quora.com/Is-using-NumPy-faster-than-using-for-loops-to-handle-lists-and-why)"
   ]
  },
  {
   "cell_type": "code",
   "execution_count": null,
   "metadata": {},
   "outputs": [],
   "source": []
  }
 ],
 "metadata": {
  "kernelspec": {
   "display_name": "Python 3",
   "language": "python",
   "name": "python3"
  },
  "language_info": {
   "codemirror_mode": {
    "name": "ipython",
    "version": 3
   },
   "file_extension": ".py",
   "mimetype": "text/x-python",
   "name": "python",
   "nbconvert_exporter": "python",
   "pygments_lexer": "ipython3",
   "version": "3.7.3"
  }
 },
 "nbformat": 4,
 "nbformat_minor": 2
}
